{
  "nbformat": 4,
  "nbformat_minor": 0,
  "metadata": {
    "colab": {
      "provenance": []
    },
    "kernelspec": {
      "name": "python3",
      "display_name": "Python 3"
    },
    "language_info": {
      "name": "python"
    }
  },
  "cells": [
    {
      "cell_type": "code",
      "execution_count": 11,
      "metadata": {
        "colab": {
          "base_uri": "https://localhost:8080/"
        },
        "collapsed": true,
        "id": "LKPaTFM9Kqja",
        "outputId": "c8ec3346-6a33-46f4-cde5-e0490c9a7b88"
      },
      "outputs": [
        {
          "output_type": "stream",
          "name": "stdout",
          "text": [
            "Requirement already satisfied: langgraph in /usr/local/lib/python3.11/dist-packages (0.4.7)\n",
            "Requirement already satisfied: langsmith in /usr/local/lib/python3.11/dist-packages (0.3.42)\n",
            "Requirement already satisfied: langchain-core>=0.1 in /usr/local/lib/python3.11/dist-packages (from langgraph) (0.3.59)\n",
            "Requirement already satisfied: langgraph-checkpoint>=2.0.26 in /usr/local/lib/python3.11/dist-packages (from langgraph) (2.0.26)\n",
            "Requirement already satisfied: langgraph-prebuilt>=0.2.0 in /usr/local/lib/python3.11/dist-packages (from langgraph) (0.2.1)\n",
            "Requirement already satisfied: langgraph-sdk>=0.1.42 in /usr/local/lib/python3.11/dist-packages (from langgraph) (0.1.70)\n",
            "Requirement already satisfied: pydantic>=2.7.4 in /usr/local/lib/python3.11/dist-packages (from langgraph) (2.11.4)\n",
            "Requirement already satisfied: xxhash>=3.5.0 in /usr/local/lib/python3.11/dist-packages (from langgraph) (3.5.0)\n",
            "Requirement already satisfied: httpx<1,>=0.23.0 in /usr/local/lib/python3.11/dist-packages (from langsmith) (0.28.1)\n",
            "Requirement already satisfied: orjson<4.0.0,>=3.9.14 in /usr/local/lib/python3.11/dist-packages (from langsmith) (3.10.18)\n",
            "Requirement already satisfied: packaging>=23.2 in /usr/local/lib/python3.11/dist-packages (from langsmith) (24.2)\n",
            "Requirement already satisfied: requests<3,>=2 in /usr/local/lib/python3.11/dist-packages (from langsmith) (2.32.3)\n",
            "Requirement already satisfied: requests-toolbelt<2.0.0,>=1.0.0 in /usr/local/lib/python3.11/dist-packages (from langsmith) (1.0.0)\n",
            "Requirement already satisfied: zstandard<0.24.0,>=0.23.0 in /usr/local/lib/python3.11/dist-packages (from langsmith) (0.23.0)\n",
            "Requirement already satisfied: anyio in /usr/local/lib/python3.11/dist-packages (from httpx<1,>=0.23.0->langsmith) (4.9.0)\n",
            "Requirement already satisfied: certifi in /usr/local/lib/python3.11/dist-packages (from httpx<1,>=0.23.0->langsmith) (2025.4.26)\n",
            "Requirement already satisfied: httpcore==1.* in /usr/local/lib/python3.11/dist-packages (from httpx<1,>=0.23.0->langsmith) (1.0.9)\n",
            "Requirement already satisfied: idna in /usr/local/lib/python3.11/dist-packages (from httpx<1,>=0.23.0->langsmith) (3.10)\n",
            "Requirement already satisfied: h11>=0.16 in /usr/local/lib/python3.11/dist-packages (from httpcore==1.*->httpx<1,>=0.23.0->langsmith) (0.16.0)\n",
            "Requirement already satisfied: tenacity!=8.4.0,<10.0.0,>=8.1.0 in /usr/local/lib/python3.11/dist-packages (from langchain-core>=0.1->langgraph) (9.1.2)\n",
            "Requirement already satisfied: jsonpatch<2.0,>=1.33 in /usr/local/lib/python3.11/dist-packages (from langchain-core>=0.1->langgraph) (1.33)\n",
            "Requirement already satisfied: PyYAML>=5.3 in /usr/local/lib/python3.11/dist-packages (from langchain-core>=0.1->langgraph) (6.0.2)\n",
            "Requirement already satisfied: typing-extensions>=4.7 in /usr/local/lib/python3.11/dist-packages (from langchain-core>=0.1->langgraph) (4.13.2)\n",
            "Requirement already satisfied: ormsgpack<2.0.0,>=1.8.0 in /usr/local/lib/python3.11/dist-packages (from langgraph-checkpoint>=2.0.26->langgraph) (1.10.0)\n",
            "Requirement already satisfied: annotated-types>=0.6.0 in /usr/local/lib/python3.11/dist-packages (from pydantic>=2.7.4->langgraph) (0.7.0)\n",
            "Requirement already satisfied: pydantic-core==2.33.2 in /usr/local/lib/python3.11/dist-packages (from pydantic>=2.7.4->langgraph) (2.33.2)\n",
            "Requirement already satisfied: typing-inspection>=0.4.0 in /usr/local/lib/python3.11/dist-packages (from pydantic>=2.7.4->langgraph) (0.4.0)\n",
            "Requirement already satisfied: charset-normalizer<4,>=2 in /usr/local/lib/python3.11/dist-packages (from requests<3,>=2->langsmith) (3.4.2)\n",
            "Requirement already satisfied: urllib3<3,>=1.21.1 in /usr/local/lib/python3.11/dist-packages (from requests<3,>=2->langsmith) (2.4.0)\n",
            "Requirement already satisfied: jsonpointer>=1.9 in /usr/local/lib/python3.11/dist-packages (from jsonpatch<2.0,>=1.33->langchain-core>=0.1->langgraph) (3.0.0)\n",
            "Requirement already satisfied: sniffio>=1.1 in /usr/local/lib/python3.11/dist-packages (from anyio->httpx<1,>=0.23.0->langsmith) (1.3.1)\n"
          ]
        }
      ],
      "source": [
        "!pip install langgraph langsmith"
      ]
    },
    {
      "cell_type": "code",
      "source": [
        "!pip install langchain langchain_groq langchain_community"
      ],
      "metadata": {
        "colab": {
          "base_uri": "https://localhost:8080/"
        },
        "collapsed": true,
        "id": "XOQ3h3aTUb1A",
        "outputId": "431a109b-aaea-4f13-908c-e164194e3274"
      },
      "execution_count": 12,
      "outputs": [
        {
          "output_type": "stream",
          "name": "stdout",
          "text": [
            "Requirement already satisfied: langchain in /usr/local/lib/python3.11/dist-packages (0.3.25)\n",
            "Requirement already satisfied: langchain_groq in /usr/local/lib/python3.11/dist-packages (0.3.2)\n",
            "Requirement already satisfied: langchain_community in /usr/local/lib/python3.11/dist-packages (0.3.24)\n",
            "Requirement already satisfied: langchain-core<1.0.0,>=0.3.58 in /usr/local/lib/python3.11/dist-packages (from langchain) (0.3.59)\n",
            "Requirement already satisfied: langchain-text-splitters<1.0.0,>=0.3.8 in /usr/local/lib/python3.11/dist-packages (from langchain) (0.3.8)\n",
            "Requirement already satisfied: langsmith<0.4,>=0.1.17 in /usr/local/lib/python3.11/dist-packages (from langchain) (0.3.42)\n",
            "Requirement already satisfied: pydantic<3.0.0,>=2.7.4 in /usr/local/lib/python3.11/dist-packages (from langchain) (2.11.4)\n",
            "Requirement already satisfied: SQLAlchemy<3,>=1.4 in /usr/local/lib/python3.11/dist-packages (from langchain) (2.0.40)\n",
            "Requirement already satisfied: requests<3,>=2 in /usr/local/lib/python3.11/dist-packages (from langchain) (2.32.3)\n",
            "Requirement already satisfied: PyYAML>=5.3 in /usr/local/lib/python3.11/dist-packages (from langchain) (6.0.2)\n",
            "Requirement already satisfied: groq<1,>=0.4.1 in /usr/local/lib/python3.11/dist-packages (from langchain_groq) (0.25.0)\n",
            "Requirement already satisfied: aiohttp<4.0.0,>=3.8.3 in /usr/local/lib/python3.11/dist-packages (from langchain_community) (3.11.15)\n",
            "Requirement already satisfied: tenacity!=8.4.0,<10,>=8.1.0 in /usr/local/lib/python3.11/dist-packages (from langchain_community) (9.1.2)\n",
            "Requirement already satisfied: dataclasses-json<0.7,>=0.5.7 in /usr/local/lib/python3.11/dist-packages (from langchain_community) (0.6.7)\n",
            "Requirement already satisfied: pydantic-settings<3.0.0,>=2.4.0 in /usr/local/lib/python3.11/dist-packages (from langchain_community) (2.9.1)\n",
            "Requirement already satisfied: httpx-sse<1.0.0,>=0.4.0 in /usr/local/lib/python3.11/dist-packages (from langchain_community) (0.4.0)\n",
            "Requirement already satisfied: numpy>=1.26.2 in /usr/local/lib/python3.11/dist-packages (from langchain_community) (2.0.2)\n",
            "Requirement already satisfied: aiohappyeyeballs>=2.3.0 in /usr/local/lib/python3.11/dist-packages (from aiohttp<4.0.0,>=3.8.3->langchain_community) (2.6.1)\n",
            "Requirement already satisfied: aiosignal>=1.1.2 in /usr/local/lib/python3.11/dist-packages (from aiohttp<4.0.0,>=3.8.3->langchain_community) (1.3.2)\n",
            "Requirement already satisfied: attrs>=17.3.0 in /usr/local/lib/python3.11/dist-packages (from aiohttp<4.0.0,>=3.8.3->langchain_community) (25.3.0)\n",
            "Requirement already satisfied: frozenlist>=1.1.1 in /usr/local/lib/python3.11/dist-packages (from aiohttp<4.0.0,>=3.8.3->langchain_community) (1.6.0)\n",
            "Requirement already satisfied: multidict<7.0,>=4.5 in /usr/local/lib/python3.11/dist-packages (from aiohttp<4.0.0,>=3.8.3->langchain_community) (6.4.3)\n",
            "Requirement already satisfied: propcache>=0.2.0 in /usr/local/lib/python3.11/dist-packages (from aiohttp<4.0.0,>=3.8.3->langchain_community) (0.3.1)\n",
            "Requirement already satisfied: yarl<2.0,>=1.17.0 in /usr/local/lib/python3.11/dist-packages (from aiohttp<4.0.0,>=3.8.3->langchain_community) (1.20.0)\n",
            "Requirement already satisfied: marshmallow<4.0.0,>=3.18.0 in /usr/local/lib/python3.11/dist-packages (from dataclasses-json<0.7,>=0.5.7->langchain_community) (3.26.1)\n",
            "Requirement already satisfied: typing-inspect<1,>=0.4.0 in /usr/local/lib/python3.11/dist-packages (from dataclasses-json<0.7,>=0.5.7->langchain_community) (0.9.0)\n",
            "Requirement already satisfied: anyio<5,>=3.5.0 in /usr/local/lib/python3.11/dist-packages (from groq<1,>=0.4.1->langchain_groq) (4.9.0)\n",
            "Requirement already satisfied: distro<2,>=1.7.0 in /usr/local/lib/python3.11/dist-packages (from groq<1,>=0.4.1->langchain_groq) (1.9.0)\n",
            "Requirement already satisfied: httpx<1,>=0.23.0 in /usr/local/lib/python3.11/dist-packages (from groq<1,>=0.4.1->langchain_groq) (0.28.1)\n",
            "Requirement already satisfied: sniffio in /usr/local/lib/python3.11/dist-packages (from groq<1,>=0.4.1->langchain_groq) (1.3.1)\n",
            "Requirement already satisfied: typing-extensions<5,>=4.10 in /usr/local/lib/python3.11/dist-packages (from groq<1,>=0.4.1->langchain_groq) (4.13.2)\n",
            "Requirement already satisfied: jsonpatch<2.0,>=1.33 in /usr/local/lib/python3.11/dist-packages (from langchain-core<1.0.0,>=0.3.58->langchain) (1.33)\n",
            "Requirement already satisfied: packaging<25,>=23.2 in /usr/local/lib/python3.11/dist-packages (from langchain-core<1.0.0,>=0.3.58->langchain) (24.2)\n",
            "Requirement already satisfied: orjson<4.0.0,>=3.9.14 in /usr/local/lib/python3.11/dist-packages (from langsmith<0.4,>=0.1.17->langchain) (3.10.18)\n",
            "Requirement already satisfied: requests-toolbelt<2.0.0,>=1.0.0 in /usr/local/lib/python3.11/dist-packages (from langsmith<0.4,>=0.1.17->langchain) (1.0.0)\n",
            "Requirement already satisfied: zstandard<0.24.0,>=0.23.0 in /usr/local/lib/python3.11/dist-packages (from langsmith<0.4,>=0.1.17->langchain) (0.23.0)\n",
            "Requirement already satisfied: annotated-types>=0.6.0 in /usr/local/lib/python3.11/dist-packages (from pydantic<3.0.0,>=2.7.4->langchain) (0.7.0)\n",
            "Requirement already satisfied: pydantic-core==2.33.2 in /usr/local/lib/python3.11/dist-packages (from pydantic<3.0.0,>=2.7.4->langchain) (2.33.2)\n",
            "Requirement already satisfied: typing-inspection>=0.4.0 in /usr/local/lib/python3.11/dist-packages (from pydantic<3.0.0,>=2.7.4->langchain) (0.4.0)\n",
            "Requirement already satisfied: python-dotenv>=0.21.0 in /usr/local/lib/python3.11/dist-packages (from pydantic-settings<3.0.0,>=2.4.0->langchain_community) (1.1.0)\n",
            "Requirement already satisfied: charset-normalizer<4,>=2 in /usr/local/lib/python3.11/dist-packages (from requests<3,>=2->langchain) (3.4.2)\n",
            "Requirement already satisfied: idna<4,>=2.5 in /usr/local/lib/python3.11/dist-packages (from requests<3,>=2->langchain) (3.10)\n",
            "Requirement already satisfied: urllib3<3,>=1.21.1 in /usr/local/lib/python3.11/dist-packages (from requests<3,>=2->langchain) (2.4.0)\n",
            "Requirement already satisfied: certifi>=2017.4.17 in /usr/local/lib/python3.11/dist-packages (from requests<3,>=2->langchain) (2025.4.26)\n",
            "Requirement already satisfied: greenlet>=1 in /usr/local/lib/python3.11/dist-packages (from SQLAlchemy<3,>=1.4->langchain) (3.2.2)\n",
            "Requirement already satisfied: httpcore==1.* in /usr/local/lib/python3.11/dist-packages (from httpx<1,>=0.23.0->groq<1,>=0.4.1->langchain_groq) (1.0.9)\n",
            "Requirement already satisfied: h11>=0.16 in /usr/local/lib/python3.11/dist-packages (from httpcore==1.*->httpx<1,>=0.23.0->groq<1,>=0.4.1->langchain_groq) (0.16.0)\n",
            "Requirement already satisfied: jsonpointer>=1.9 in /usr/local/lib/python3.11/dist-packages (from jsonpatch<2.0,>=1.33->langchain-core<1.0.0,>=0.3.58->langchain) (3.0.0)\n",
            "Requirement already satisfied: mypy-extensions>=0.3.0 in /usr/local/lib/python3.11/dist-packages (from typing-inspect<1,>=0.4.0->dataclasses-json<0.7,>=0.5.7->langchain_community) (1.1.0)\n"
          ]
        }
      ]
    },
    {
      "cell_type": "code",
      "source": [
        "from google.colab import userdata\n",
        "groq_api_key = userdata.get (\"groq_api_key\")\n",
        "langsmith = userdata.get (\"LANGSMITH_API_KEY\")"
      ],
      "metadata": {
        "id": "fGh_2pT2UbwJ"
      },
      "execution_count": 13,
      "outputs": []
    },
    {
      "cell_type": "code",
      "source": [
        "import os\n",
        "os.environ[\"LANGCHAIN_API_KEY\"] = langsmith\n",
        "os.environ[\"LANGCHAIN_TRACING_V2\"] = \"true\"\n",
        "os.environ[\"LANGCHAIN_PROJECT\"] = \"langGraph_chatbot\"\n",
        "os.environ[\"GROQ_API_KEY\"] = groq_api_key"
      ],
      "metadata": {
        "id": "E2miLCP3Xi9s"
      },
      "execution_count": 15,
      "outputs": []
    },
    {
      "cell_type": "code",
      "source": [
        "from langchain_groq import ChatGroq\n",
        "llm = ChatGroq (model = \"llama-3.3-70b-versatile\")"
      ],
      "metadata": {
        "id": "cLel6RSGtmdh"
      },
      "execution_count": 17,
      "outputs": []
    },
    {
      "cell_type": "markdown",
      "source": [
        "# Start Building ChatBot Using LangGraph"
      ],
      "metadata": {
        "id": "VuDYVLXFu9ky"
      }
    },
    {
      "cell_type": "code",
      "source": [
        "from typing import Annotated\n",
        "from typing_extensions import TypedDict\n",
        "from langgraph.graph import StateGraph, START, END\n",
        "from langgraph.graph.message import add_messages"
      ],
      "metadata": {
        "id": "QzE9xSkYu53K"
      },
      "execution_count": 18,
      "outputs": []
    },
    {
      "cell_type": "code",
      "source": [
        "class State(TypedDict): # class State inheriting the TypedDict class\n",
        "  messages: Annotated[list, add_messages]\n",
        "  # meesages have the type \"list\" and \"add_messages\" as function\n",
        "  # in the annotation defines how the state key should be updated\n",
        "  # in this case, it appends the messages rather than overwriting them\n",
        "  # every add changes the state\n",
        "\n",
        "graph_builder = StateGraph(State) # this graph builder should be responsible for entire graph management"
      ],
      "metadata": {
        "id": "La5R4iqeveL_"
      },
      "execution_count": 19,
      "outputs": []
    },
    {
      "cell_type": "code",
      "source": [
        "graph_builder"
      ],
      "metadata": {
        "colab": {
          "base_uri": "https://localhost:8080/"
        },
        "id": "MDjqS0tXxKE9",
        "outputId": "893b44e1-9f87-44e6-b2c6-060018107c07"
      },
      "execution_count": 20,
      "outputs": [
        {
          "output_type": "execute_result",
          "data": {
            "text/plain": [
              "<langgraph.graph.state.StateGraph at 0x7abf0066c590>"
            ]
          },
          "metadata": {},
          "execution_count": 20
        }
      ]
    },
    {
      "cell_type": "code",
      "source": [
        "def chatbot (state : State): # chatbot class inheriting the state class\n",
        "  return {\"messages\" : llm.invoke (state['messages'])}"
      ],
      "metadata": {
        "id": "35l7MIygyQ2V"
      },
      "execution_count": 23,
      "outputs": []
    },
    {
      "cell_type": "code",
      "source": [
        "graph_builder.add_node (\"chatbot\", chatbot)"
      ],
      "metadata": {
        "colab": {
          "base_uri": "https://localhost:8080/"
        },
        "id": "tM5YHNEay4Sq",
        "outputId": "dbb6ed31-1340-481f-b58a-d221fb635b5a"
      },
      "execution_count": 24,
      "outputs": [
        {
          "output_type": "execute_result",
          "data": {
            "text/plain": [
              "<langgraph.graph.state.StateGraph at 0x7abf0066c590>"
            ]
          },
          "metadata": {},
          "execution_count": 24
        }
      ]
    },
    {
      "cell_type": "code",
      "source": [
        "graph_builder.add_edge (START, \"chatbot\")\n",
        "graph_builder.add_edge (\"chatbot\", END)"
      ],
      "metadata": {
        "colab": {
          "base_uri": "https://localhost:8080/"
        },
        "id": "kZXv4zFKz2c6",
        "outputId": "1f538b76-835b-453e-e472-f3099f3b7cb9"
      },
      "execution_count": 25,
      "outputs": [
        {
          "output_type": "execute_result",
          "data": {
            "text/plain": [
              "<langgraph.graph.state.StateGraph at 0x7abf0066c590>"
            ]
          },
          "metadata": {},
          "execution_count": 25
        }
      ]
    },
    {
      "cell_type": "code",
      "source": [
        "graph = graph_builder.compile()"
      ],
      "metadata": {
        "id": "AECE_U0f1DtD"
      },
      "execution_count": 26,
      "outputs": []
    },
    {
      "cell_type": "code",
      "source": [
        "from IPython.display import Image, display\n",
        "try:\n",
        "  display (Image (graph.get_graph().draw_mermaid_png()))\n",
        "except Exception:\n",
        "  pass"
      ],
      "metadata": {
        "colab": {
          "base_uri": "https://localhost:8080/",
          "height": 251
        },
        "id": "AAFQS-nA0ypA",
        "outputId": "b7af7025-cda2-45ef-85d6-971918cd6bbe"
      },
      "execution_count": 28,
      "outputs": [
        {
          "output_type": "display_data",
          "data": {
            "image/png": "[encoded data removed]",
            "text/plain": [
              "<IPython.core.display.Image object>"
            ]
          },
          "metadata": {}
        }
      ]
    },
    {
      "cell_type": "code",
      "source": [
        "while True:\n",
        "  user_input = input (\"User: \")\n",
        "  if user_input.lower() in [\"quit\", \"q\"]:\n",
        "    print (\"Good Bye!\")\n",
        "    break\n",
        "  for event in graph.stream ({'messages' : (\"user\", user_input)}):\n",
        "    print (event.values())\n",
        "    for value in event.values():\n",
        "      print (value['messages'])\n",
        "      print (\"Assistant: \", value[\"messages\"].content)"
      ],
      "metadata": {
        "colab": {
          "base_uri": "https://localhost:8080/"
        },
        "id": "LEC2KBqR82-p",
        "outputId": "caaa599a-4db3-4f85-96a4-7d2c8872fd39"
      },
      "execution_count": 32,
      "outputs": [
        {
          "output_type": "stream",
          "name": "stdout",
          "text": [
            "User: hello\n",
            "dict_values([{'messages': AIMessage(content='Hello. How can I help you today?', additional_kwargs={}, response_metadata={'token_usage': {'completion_tokens': 10, 'prompt_tokens': 36, 'total_tokens': 46, 'completion_time': 0.036363636, 'prompt_time': 0.001670203, 'queue_time': 0.220233225, 'total_time': 0.038033839}, 'model_name': 'llama-3.3-70b-versatile', 'system_fingerprint': 'fp_3f3b593e33', 'finish_reason': 'stop', 'logprobs': None}, id='run--14e2c0df-f843-4b77-857f-32525ea616b4-0', usage_metadata={'input_tokens': 36, 'output_tokens': 10, 'total_tokens': 46})}])\n",
            "content='Hello. How can I help you today?' additional_kwargs={} response_metadata={'token_usage': {'completion_tokens': 10, 'prompt_tokens': 36, 'total_tokens': 46, 'completion_time': 0.036363636, 'prompt_time': 0.001670203, 'queue_time': 0.220233225, 'total_time': 0.038033839}, 'model_name': 'llama-3.3-70b-versatile', 'system_fingerprint': 'fp_3f3b593e33', 'finish_reason': 'stop', 'logprobs': None} id='run--14e2c0df-f843-4b77-857f-32525ea616b4-0' usage_metadata={'input_tokens': 36, 'output_tokens': 10, 'total_tokens': 46}\n",
            "Assistant:  Hello. How can I help you today?\n",
            "User: take a note about me I am niloy\n",
            "dict_values([{'messages': AIMessage(content='Note: User introduced themselves as Niloy.', additional_kwargs={}, response_metadata={'token_usage': {'completion_tokens': 10, 'prompt_tokens': 44, 'total_tokens': 54, 'completion_time': 0.051687055, 'prompt_time': 0.002430819, 'queue_time': 0.200717449, 'total_time': 0.054117874}, 'model_name': 'llama-3.3-70b-versatile', 'system_fingerprint': 'fp_6507bcfb6f', 'finish_reason': 'stop', 'logprobs': None}, id='run--7b261db5-ffb2-4396-96cf-ff1318208867-0', usage_metadata={'input_tokens': 44, 'output_tokens': 10, 'total_tokens': 54})}])\n",
            "content='Note: User introduced themselves as Niloy.' additional_kwargs={} response_metadata={'token_usage': {'completion_tokens': 10, 'prompt_tokens': 44, 'total_tokens': 54, 'completion_time': 0.051687055, 'prompt_time': 0.002430819, 'queue_time': 0.200717449, 'total_time': 0.054117874}, 'model_name': 'llama-3.3-70b-versatile', 'system_fingerprint': 'fp_6507bcfb6f', 'finish_reason': 'stop', 'logprobs': None} id='run--7b261db5-ffb2-4396-96cf-ff1318208867-0' usage_metadata={'input_tokens': 44, 'output_tokens': 10, 'total_tokens': 54}\n",
            "Assistant:  Note: User introduced themselves as Niloy.\n",
            "User: Now write a story about me\n",
            "dict_values([{'messages': AIMessage(content='Once upon a time, in a world full of wonder and possibility, there was a person with a heart full of curiosity and a mind full of questions. That person was you.\\n\\nYou lived in a small, cozy town surrounded by rolling hills and vast expanses of green forests. The air was crisp and clean, and the sun shone brightly every day, casting a warm glow over everything. You loved to explore the outdoors, discovering hidden streams and secret meadows that few others knew about.\\n\\nAs you grew older, your curiosity only deepened. You began to ask questions about the world around you, seeking answers to the mysteries of life and the universe. You devoured books on every subject imaginable, from science and history to philosophy and art. Your thirst for knowledge was insatiable, and you spent hours poring over texts, taking notes, and discussing ideas with anyone who would listen.\\n\\nOne day, as you were wandering through the forest, you stumbled upon a hidden path you had never seen before. The path was overgrown with weeds and vines, and it looked as though it hadn\\'t been used in years. But something about it drew you in, and you felt an overwhelming urge to follow it.\\n\\nAs you walked, the path wound deeper and deeper into the forest, leading you through a tunnel of trees and over a babbling brook. The air grew quieter and more still, and you began to feel a sense of peace and tranquility that you had never experienced before.\\n\\nSuddenly, the path opened up into a clearing, and you found yourself standing in a beautiful meadow filled with wildflowers of every color. The sun was setting, casting a golden glow over the scene, and you felt as though you had stumbled into a dream world.\\n\\nIn the center of the meadow stood an enormous tree, its branches stretching up towards the sky like a giant\\'s fingers. The tree seemed to be calling to you, and you felt an inexplicable sense of connection to it.\\n\\nAs you approached the tree, you noticed that its trunk was covered in strange symbols and markings. They seemed to be a language, but you couldn\\'t quite decipher their meaning. You reached out a hand to touch the tree, and as you did, the symbols began to glow with a soft, pulsing light.\\n\\nSuddenly, the tree spoke to you in a voice that was both ancient and timeless. \"You have been chosen,\" it said, \"to receive a great gift. You have shown curiosity, determination, and a thirst for knowledge. As a reward, I will grant you the ability to see the world in a new and wondrous way.\"\\n\\nAnd with that, the tree vanished, leaving you standing alone in the meadow. But as you looked around, you realized that everything had changed. The flowers seemed more vibrant, the trees more majestic, and the sky more full of wonder. You felt as though you had been given a new pair of eyes, and you saw the world with a sense of awe and magic that you had never experienced before.\\n\\nFrom that day on, you roamed the world, seeing and experiencing things that few others could. You traveled to distant lands, met extraordinary people, and discovered hidden wonders. And through it all, you never forgot the lesson of the tree: that curiosity, determination, and a thirst for knowledge can lead to the most incredible adventures and discoveries.', additional_kwargs={}, response_metadata={'token_usage': {'completion_tokens': 683, 'prompt_tokens': 41, 'total_tokens': 724, 'completion_time': 2.483636364, 'prompt_time': 0.00223797, 'queue_time': 0.218893216, 'total_time': 2.485874334}, 'model_name': 'llama-3.3-70b-versatile', 'system_fingerprint': 'fp_3f3b593e33', 'finish_reason': 'stop', 'logprobs': None}, id='run--b37e5b09-c048-4bbd-81ab-da883b753e87-0', usage_metadata={'input_tokens': 41, 'output_tokens': 683, 'total_tokens': 724})}])\n",
            "content='Once upon a time, in a world full of wonder and possibility, there was a person with a heart full of curiosity and a mind full of questions. That person was you.\\n\\nYou lived in a small, cozy town surrounded by rolling hills and vast expanses of green forests. The air was crisp and clean, and the sun shone brightly every day, casting a warm glow over everything. You loved to explore the outdoors, discovering hidden streams and secret meadows that few others knew about.\\n\\nAs you grew older, your curiosity only deepened. You began to ask questions about the world around you, seeking answers to the mysteries of life and the universe. You devoured books on every subject imaginable, from science and history to philosophy and art. Your thirst for knowledge was insatiable, and you spent hours poring over texts, taking notes, and discussing ideas with anyone who would listen.\\n\\nOne day, as you were wandering through the forest, you stumbled upon a hidden path you had never seen before. The path was overgrown with weeds and vines, and it looked as though it hadn\\'t been used in years. But something about it drew you in, and you felt an overwhelming urge to follow it.\\n\\nAs you walked, the path wound deeper and deeper into the forest, leading you through a tunnel of trees and over a babbling brook. The air grew quieter and more still, and you began to feel a sense of peace and tranquility that you had never experienced before.\\n\\nSuddenly, the path opened up into a clearing, and you found yourself standing in a beautiful meadow filled with wildflowers of every color. The sun was setting, casting a golden glow over the scene, and you felt as though you had stumbled into a dream world.\\n\\nIn the center of the meadow stood an enormous tree, its branches stretching up towards the sky like a giant\\'s fingers. The tree seemed to be calling to you, and you felt an inexplicable sense of connection to it.\\n\\nAs you approached the tree, you noticed that its trunk was covered in strange symbols and markings. They seemed to be a language, but you couldn\\'t quite decipher their meaning. You reached out a hand to touch the tree, and as you did, the symbols began to glow with a soft, pulsing light.\\n\\nSuddenly, the tree spoke to you in a voice that was both ancient and timeless. \"You have been chosen,\" it said, \"to receive a great gift. You have shown curiosity, determination, and a thirst for knowledge. As a reward, I will grant you the ability to see the world in a new and wondrous way.\"\\n\\nAnd with that, the tree vanished, leaving you standing alone in the meadow. But as you looked around, you realized that everything had changed. The flowers seemed more vibrant, the trees more majestic, and the sky more full of wonder. You felt as though you had been given a new pair of eyes, and you saw the world with a sense of awe and magic that you had never experienced before.\\n\\nFrom that day on, you roamed the world, seeing and experiencing things that few others could. You traveled to distant lands, met extraordinary people, and discovered hidden wonders. And through it all, you never forgot the lesson of the tree: that curiosity, determination, and a thirst for knowledge can lead to the most incredible adventures and discoveries.' additional_kwargs={} response_metadata={'token_usage': {'completion_tokens': 683, 'prompt_tokens': 41, 'total_tokens': 724, 'completion_time': 2.483636364, 'prompt_time': 0.00223797, 'queue_time': 0.218893216, 'total_time': 2.485874334}, 'model_name': 'llama-3.3-70b-versatile', 'system_fingerprint': 'fp_3f3b593e33', 'finish_reason': 'stop', 'logprobs': None} id='run--b37e5b09-c048-4bbd-81ab-da883b753e87-0' usage_metadata={'input_tokens': 41, 'output_tokens': 683, 'total_tokens': 724}\n",
            "Assistant:  Once upon a time, in a world full of wonder and possibility, there was a person with a heart full of curiosity and a mind full of questions. That person was you.\n",
            "\n",
            "You lived in a small, cozy town surrounded by rolling hills and vast expanses of green forests. The air was crisp and clean, and the sun shone brightly every day, casting a warm glow over everything. You loved to explore the outdoors, discovering hidden streams and secret meadows that few others knew about.\n",
            "\n",
            "As you grew older, your curiosity only deepened. You began to ask questions about the world around you, seeking answers to the mysteries of life and the universe. You devoured books on every subject imaginable, from science and history to philosophy and art. Your thirst for knowledge was insatiable, and you spent hours poring over texts, taking notes, and discussing ideas with anyone who would listen.\n",
            "\n",
            "One day, as you were wandering through the forest, you stumbled upon a hidden path you had never seen before. The path was overgrown with weeds and vines, and it looked as though it hadn't been used in years. But something about it drew you in, and you felt an overwhelming urge to follow it.\n",
            "\n",
            "As you walked, the path wound deeper and deeper into the forest, leading you through a tunnel of trees and over a babbling brook. The air grew quieter and more still, and you began to feel a sense of peace and tranquility that you had never experienced before.\n",
            "\n",
            "Suddenly, the path opened up into a clearing, and you found yourself standing in a beautiful meadow filled with wildflowers of every color. The sun was setting, casting a golden glow over the scene, and you felt as though you had stumbled into a dream world.\n",
            "\n",
            "In the center of the meadow stood an enormous tree, its branches stretching up towards the sky like a giant's fingers. The tree seemed to be calling to you, and you felt an inexplicable sense of connection to it.\n",
            "\n",
            "As you approached the tree, you noticed that its trunk was covered in strange symbols and markings. They seemed to be a language, but you couldn't quite decipher their meaning. You reached out a hand to touch the tree, and as you did, the symbols began to glow with a soft, pulsing light.\n",
            "\n",
            "Suddenly, the tree spoke to you in a voice that was both ancient and timeless. \"You have been chosen,\" it said, \"to receive a great gift. You have shown curiosity, determination, and a thirst for knowledge. As a reward, I will grant you the ability to see the world in a new and wondrous way.\"\n",
            "\n",
            "And with that, the tree vanished, leaving you standing alone in the meadow. But as you looked around, you realized that everything had changed. The flowers seemed more vibrant, the trees more majestic, and the sky more full of wonder. You felt as though you had been given a new pair of eyes, and you saw the world with a sense of awe and magic that you had never experienced before.\n",
            "\n",
            "From that day on, you roamed the world, seeing and experiencing things that few others could. You traveled to distant lands, met extraordinary people, and discovered hidden wonders. And through it all, you never forgot the lesson of the tree: that curiosity, determination, and a thirst for knowledge can lead to the most incredible adventures and discoveries.\n",
            "User: q\n",
            "Good Bye!\n"
          ]
        }
      ]
    }
  ]
}